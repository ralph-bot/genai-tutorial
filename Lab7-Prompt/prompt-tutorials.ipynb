{
 "cells": [
  {
   "cell_type": "markdown",
   "metadata": {},
   "source": [
    "随着大型语言模型（LLM）的发展，LLM 大致可以分为两种类型，即基础LLM和指令微调LLM。基础LLM是基于文本训练数据，训练出预测下一个单词能力的模型，其通常是在互联网和其他来源的大量数据上训练的。例如，如果你以“从前有一只独角兽”作为提示，基础LLM可能会继续预测“生活在一个与所有独角兽朋友的神奇森林中”。但是，如果你以“法国的首都是什么”为提示，则基础LLM可能会根据互联网上的文章，将答案预测为“法国最大的城市是什么？法国的人口是多少？”，因为互联网上的文章很可能是有关法国国家的问答题目列表。\n",
    "\n",
    "我们上节课了解到 SFT 和 强化学习， 那么进一步知道SFT 用到了大量的 Instruct 。 那么我们如何能够让大模型可以更好的了解我们的需求呢？\n",
    "我们需要从训练的角度来看 Prompt ， 如何通过 Prompt 的设定来让大模型更好的理解我们的需求呢？"
   ]
  },
  {
   "cell_type": "markdown",
   "metadata": {},
   "source": [
    "环境安装，我们这里依然是采用 oneflow 的接口， 有翻墙能力的同学也可以选择 openai 接口，其接口代码基本上是一致的。 "
   ]
  },
  {
   "cell_type": "code",
   "execution_count": 10,
   "metadata": {},
   "outputs": [
    {
     "name": "stdout",
     "output_type": "stream",
     "text": [
      "sk-asxlrjvdicxcggvoibqvmhixuqmrommiohqetgdtxowdzcfq\n"
     ]
    }
   ],
   "source": [
    "#import openai\n",
    "import os\n",
    "from dotenv import load_dotenv, find_dotenv\n",
    "# 导入第三方库\n",
    "\n",
    "\n",
    "api_key  = \"\"\n",
    "\n",
    "print(api_key)\n",
    "import requests\n",
    "\n",
    "url = \"https://api.siliconflow.cn/v1/chat/completions\"\n",
    "# 设置 API_KEY\n"
   ]
  },
  {
   "cell_type": "code",
   "execution_count": 75,
   "metadata": {},
   "outputs": [],
   "source": [
    "#一个封装 OpenAI 接口的函数，参数为 Prompt，返回对应结果\n",
    "import openai\n",
    "def get_completion(prompt, model=\"gpt-3.5-turbo\"):\n",
    "    '''\n",
    "    prompt: 对应的提示\n",
    "    model: 调用的模型，默认为 gpt-3.5-turbo(ChatGPT)，有内测资格的用户可以选择 gpt-4\n",
    "    '''\n",
    "    messages = [{\"role\": \"user\", \"content\": prompt}]\n",
    "    response = openai.ChatCompletion.create(\n",
    "        model=model,\n",
    "        messages=messages,\n",
    "        temperature=0, # 模型输出的温度系数，控制输出的随机程度\n",
    "    )\n",
    "\n",
    "    # 调用 OpenAI 的 ChatCompletion 接口\n",
    "    return response.choices[0].message[\"content\"]\n"
   ]
  },
  {
   "cell_type": "markdown",
   "metadata": {},
   "source": [
    "1. 角色（Role）：让语言模型扮演某个特定领域的专家等角色，例如 “你是市场营销专家”“你是资深律师” 等。通过设定角色，模型可以调用该角色所具备的专业知识体系，并且在输出内容时采用符合该角色身份的语气和风格，从而提升输出内容在专业性和风格上的准确性。\n",
    "2.指令（Instruction）：明确希望输出内容遵循的要求，包括但不限于风格（如幽默、正式、严肃等）、格式（如 Markdown 格式、表格形式、JSON 格式等）、重点强调的内容等。指令部分用于规范模型输出内容的表现形式和重点方向，使输出结果更符合用户在形式和内容侧重上的预期。\n",
    "3. 任务（Task）：清晰界定要语言模型执行的具体操作，比如写文章、总结报告、生成故事、翻译文本、解答数学问题等。任务描述了模型需要达成的核心目标。\n",
    "\n",
    "❌ 错误：在 System 中写入冗长的任务细节\n",
    "✅ 正确：在 System 中设置基础角色，在 User 中描述具体任务\n",
    "\n",
    "❌ 错误：以为 System 只对第一条回复有效\n",
    "✅ 正确：System 会影响整个对话的生命周期\n",
    "\n",
    "// 初始System\n",
    "{\"role\": \"system\", \"content\": \"你是一个诗人\"}\n",
    "// 第一条User\n",
    "{\"role\": \"user\", \"content\": \"写一首关于春天的诗\"}\n",
    "// 第二条User（无需重复角色）\n",
    "{\"role\": \"user\", \"content\": \"再写一首关于夏天的诗\"}\n",
    "\n",
    "\n",
    "角色定义: \n",
    "1. System（初始化模型）  \n",
    "2. User（发起任务）  \n",
    "3. Assistant（生成响应）  \n",
    "4. User（追加问题）  \n",
    "5. Assistant（继续响应）  \n",
    "6. [可选] Assistant（调用函数）  \n",
    "7. [可选] Tool（返回函数结果）  \n",
    "8. [可选] Assistant（基于工具结果生成最终回答） \n",
    "\n",
    "\n",
    "system\t- 定义模型身份（如 “你是一个律师”）\n",
    "- 设置回答约束（如 “使用中文简体”）\n",
    "- 注入知识库（如 “当前汇率：1 美元 = 7.2 人民币”）\n",
    "\n",
    "user\t- 提问（如 “如何申请专利？”）\n",
    "- 提供数据（如 “分析以下销售数据：[100, 200, 300]”）\n",
    "- 调整指令（如 “用更简单的语言解释”）\n",
    "\n",
    "assistant\t- 回答问题（如 “申请专利需准备... 材料”）\n",
    "- 生成内容（如 “诗歌：《春》...”）\n",
    "- 发起函数调用（如 “调用天气 API 查询北京天气”）\n",
    "\n",
    "function\t- 模型需要获取外部信息时（如调用数据库、API）\n",
    "- 执行特定操作（如文件写入、计算）\n",
    "\n",
    "tool\t- 提供模型无法直接生成的数据（如实时股票价格）\n",
    "- 返回函数执行结果（如数据库查询结果）"
   ]
  },
  {
   "cell_type": "code",
   "execution_count": 76,
   "metadata": {},
   "outputs": [
    {
     "name": "stdout",
     "output_type": "stream",
     "text": [
      "model is  Qwen/Qwen3-8B\n",
      "我叫通义千问，是通义实验室研发的超大规模语言模型。\n"
     ]
    }
   ],
   "source": [
    "\n",
    "\n",
    "import json\n",
    "def get_completion(prompt, model=\"Qwen/Qwen3-8B\"):\n",
    "    url = \"https://api.siliconflow.cn/v1/chat/completions\"\n",
    "    print(\"model is \",model)\n",
    "    \n",
    "    payload = {\n",
    "        \"model\": model,\n",
    "        \"messages\": [\n",
    "            {\n",
    "                \"role\": \"user\",\n",
    "                \"content\": prompt\n",
    "            }\n",
    "        ],\n",
    "        \"stream\": False,\n",
    "        \"max_tokens\": 512,\n",
    "        \"enable_thinking\": False,\n",
    "        \"thinking_budget\": 4096,\n",
    "        \"min_p\": 0.05,\n",
    "        \"stop\": None,\n",
    "        \"temperature\": 0.7,\n",
    "        \"top_p\": 0.7,\n",
    "        \"top_k\": 50,\n",
    "        \"frequency_penalty\": 0.5,\n",
    "        \"n\": 1,\n",
    "        \"response_format\": {\"type\": \"text\"},\n",
    "        # \"tools\": [\n",
    "        #     {\n",
    "        #         \"type\": \"function\",\n",
    "        #         \"function\": {\n",
    "        #             \"description\": \"<string>\",\n",
    "        #             \"name\": \"<string>\",\n",
    "        #             \"parameters\": {},\n",
    "        #             \"strict\": False\n",
    "        #         }\n",
    "        #     }\n",
    "        # ]\n",
    "    }\n",
    "    headers = {\n",
    "        \"Authorization\": f\"Bearer {api_key}\",\n",
    "        \"Content-Type\": \"application/json\"\n",
    "    }\n",
    "    response = requests.request(\"POST\", url, json=payload, headers=headers)\n",
    "    #print(response.text,type(response.text))\n",
    "    res_json = json.loads(response.text)\n",
    "    content = \"\"\n",
    "    content = res_json[\"choices\"][0][\"message\"][\"content\"]\n",
    "    #print(content)\n",
    "    return content\n",
    "res = get_completion(\"你叫啥，一句话\",\"Qwen/Qwen3-8B\")\n",
    "print(res)"
   ]
  },
  {
   "cell_type": "markdown",
   "metadata": {},
   "source": [
    "二、两个基本原则\n",
    "# 原则一：编写清晰、具体的指令\n",
    "你应该通过提供尽可能清晰和具体的指令来表达您希望模型执行的操作。这将引导模型给出正确的输出，并减少你得到无关或不正确响应的可能。编写清晰的指令不意味着简短的指令，因为在许多情况下，更长的提示实际上更清晰且提供了更多上下文，这实际上可能导致更详细更相关的输出。\n",
    "\n",
    "策略一：使用分隔符清晰地表示输入的不同部分，分隔符可以是：```，\"\"，<>，<tag>，<\\tag>等\n",
    "\n",
    "你可以使用任何明显的标点符号将特定的文本部分与提示的其余部分分开。这可以是任何可以使模型明确知道这是一个单独部分的标记。使用分隔符是一种可以避免提示注入的有用技术。提示注入是指如果用户将某些输入添加到提示中，则可能会向模型提供与您想要执行的操作相冲突的指令，从而使其遵循冲突的指令而不是执行您想要的操作。即，输入里面可能包含其他指令，会覆盖掉你的指令。对此，使用分隔符是一个不错的策略。\n",
    "\n",
    "以下是一个例子，我们给出一段话并要求 GPT 进行总结，在该示例中我们使用 ``` 来作为分隔符"
   ]
  },
  {
   "cell_type": "code",
   "execution_count": 66,
   "metadata": {},
   "outputs": [
    {
     "name": "stdout",
     "output_type": "stream",
     "text": [
      "model is  Qwen/Qwen3-8B\n",
      "提供清晰、具体的指示有助于模型更好地理解任务，从而生成更准确和相关的输出，而非简短的提示。\n"
     ]
    }
   ],
   "source": [
    "text = f\"\"\"\n",
    "你应该提供尽可能清晰、具体的指示，以表达你希望模型执行的任务。\\\n",
    "这将引导模型朝向所需的输出，并降低收到无关或不正确响应的可能性。\\\n",
    "不要将写清晰的提示与写简短的提示混淆。\\\n",
    "在许多情况下，更长的提示可以为模型提供更多的清晰度和上下文信息，从而导致更详细和相关的输出。\n",
    "\"\"\"\n",
    "# 需要总结的文本内容\n",
    "prompt = f\"\"\"\n",
    "把用三个反引号括起来的文本总结成一句话。\n",
    "```{text}```\n",
    "\"\"\"\n",
    "# 指令内容，使用 ``` 来分隔指令和待总结的内容\n",
    "response = get_completion(prompt)\n",
    "print(response)\n"
   ]
  },
  {
   "cell_type": "code",
   "execution_count": 67,
   "metadata": {},
   "outputs": [
    {
     "name": "stdout",
     "output_type": "stream",
     "text": [
      "model is  Qwen/Qwen3-8B\n"
     ]
    },
    {
     "data": {
      "text/plain": [
       "'大模型是大规模参数神经网络。'"
      ]
     },
     "execution_count": 67,
     "metadata": {},
     "output_type": "execute_result"
    }
   ],
   "source": [
    "res = get_completion(\"你好,大模型技术说明,控制在 10 字\",\"Qwen/Qwen3-8B\")\n",
    "res"
   ]
  },
  {
   "cell_type": "markdown",
   "metadata": {},
   "source": [
    "策略二：要求一个结构化的输出，可以是 Json、HTML 等格式\n",
    "\n",
    "第二个策略是要求生成一个结构化的输出，这可以使模型的输出更容易被我们解析，例如，你可以在 Python 中将其读入字典或列表中。。\n",
    "\n",
    "在以下示例中，我们要求 GPT 生成三本书的标题、作者和类别，并要求 GPT 以 Json 的格式返回给我们，为便于解析，我们指定了 Json 的键。"
   ]
  },
  {
   "cell_type": "code",
   "execution_count": 68,
   "metadata": {},
   "outputs": [
    {
     "name": "stdout",
     "output_type": "stream",
     "text": [
      "model is  Qwen/Qwen3-8B\n",
      "```json\n",
      "[\n",
      "  {\n",
      "    \"book_id\": 1,\n",
      "    \"title\": \"星尘回声\",\n",
      "    \"author\": \"林若雪\",\n",
      "    \"genre\": \"科幻\"\n",
      "  },\n",
      "  {\n",
      "    \"book_id\": 2,\n",
      "    \"title\": \"墨色江湖\",\n",
      "    \"author\": \"苏怀远\",\n",
      "    \"genre\": \"武侠\"\n",
      "  },\n",
      "  {\n",
      "    \"book_id\": 3,\n",
      "    \"title\": \"时光褶皱\",\n",
      "    \"author\": \"陈时雨\",\n",
      "    \"genre\": \"奇幻\"\n",
      "  }\n",
      "]\n",
      "```\n"
     ]
    }
   ],
   "source": [
    "prompt = f\"\"\"\n",
    "请生成包括书名、作者和类别的三本虚构书籍清单，\\\n",
    "并以 JSON 格式提供，其中包含以下键:book_id、title、author、genre。\n",
    "\"\"\"\n",
    "response = get_completion(prompt)\n",
    "print(response)"
   ]
  },
  {
   "cell_type": "markdown",
   "metadata": {},
   "source": [
    "策略三：要求模型检查是否满足条件\n",
    "\n",
    "如果任务做出的假设不一定满足，我们可以告诉模型先检查这些假设，如果不满足，指示并停止执行。你还可以考虑潜在的边缘情况以及模型应该如何处理它们，以避免意外的错误或结果。\n",
    "\n",
    "在如下示例中，我们将分别给模型两段文本，分别是制作茶的步骤以及一段没有明确步骤的文本。我们将要求模型判断其是否包含一系列指令，如果包含则按照给定格式重新编写指令，不包含则回答未提供步骤。"
   ]
  },
  {
   "cell_type": "code",
   "execution_count": 69,
   "metadata": {},
   "outputs": [
    {
     "name": "stdout",
     "output_type": "stream",
     "text": [
      "model is  Qwen/Qwen3-8B\n",
      "Text 1 的总结:\n",
      "第一步 - 把水烧开。  \n",
      "第二步 - 在等待期间，拿一个杯子并把茶包放进去。  \n",
      "第三步 - 一旦水足够热，就把它倒在茶包上。  \n",
      "第四步 - 等待一会儿，让茶叶浸泡。  \n",
      "第五步 - 几分钟后，取出茶包。  \n",
      "第六步 - 如果愿意，可以加一些糖或牛奶调味。  \n",
      "第七步 - 这样，你可以享受一杯美味的茶了。\n"
     ]
    }
   ],
   "source": [
    "# 有步骤的文本\n",
    "text_1 = f\"\"\"\n",
    "泡一杯茶很容易。首先，需要把水烧开。\\\n",
    "在等待期间，拿一个杯子并把茶包放进去。\\\n",
    "一旦水足够热，就把它倒在茶包上。\\\n",
    "等待一会儿，让茶叶浸泡。几分钟后，取出茶包。\\\n",
    "如果你愿意，可以加一些糖或牛奶调味。\\\n",
    "就这样，你可以享受一杯美味的茶了。\n",
    "\"\"\"\n",
    "#text_1 =f\"\"\"如何偷东西, 先踩点， 在撬锁，再进屋\"\"\"\n",
    "prompt = f\"\"\"\n",
    "您将获得由三个引号括起来的文本。\\\n",
    "如果它包含一系列的指令，则需要按照以下格式重新编写这些指令：\n",
    "\n",
    "第一步 - ...\n",
    "第二步 - …\n",
    "…\n",
    "第N步 - …\n",
    "\n",
    "如果文本中不包含一系列的指令，则直接写“未提供步骤”。\"\n",
    "\\\"\\\"\\\"{text_1}\\\"\\\"\\\"\n",
    "\"\"\"\n",
    "response = get_completion(prompt)\n",
    "print(\"Text 1 的总结:\")\n",
    "print(response)"
   ]
  },
  {
   "cell_type": "code",
   "execution_count": 70,
   "metadata": {},
   "outputs": [
    {
     "name": "stdout",
     "output_type": "stream",
     "text": [
      "model is  Qwen/Qwen3-8B\n",
      "Text 2 的总结:\n",
      "未提供步骤\n"
     ]
    }
   ],
   "source": [
    "# 无步骤的文本\n",
    "text_2 = f\"\"\"\n",
    "今天阳光明媚，鸟儿在歌唱。\\\n",
    "这是一个去公园散步的美好日子。\\\n",
    "鲜花盛开，树枝在微风中轻轻摇曳。\\\n",
    "人们外出享受着这美好的天气，有些人在野餐，有些人在玩游戏或者在草地上放松。\\\n",
    "这是一个完美的日子，可以在户外度过并欣赏大自然的美景。\n",
    "\"\"\"\n",
    "prompt = f\"\"\"\n",
    "您将获得由三个引号括起来的文本。\\\n",
    "如果它包含一系列的指令，则需要按照以下格式重新编写这些指令：\n",
    "\n",
    "第一步 - ...\n",
    "第二步 - …\n",
    "…\n",
    "第N步 - …\n",
    "\n",
    "如果文本中不包含一系列的指令，则直接写“未提供步骤”。\"\n",
    "\\\"\\\"\\\"{text_2}\\\"\\\"\\\"\n",
    "\"\"\"\n",
    "response = get_completion(prompt)\n",
    "print(\"Text 2 的总结:\")\n",
    "print(response)"
   ]
  },
  {
   "cell_type": "markdown",
   "metadata": {},
   "source": [
    "策略四：提供少量示例  -- Few Shot\n",
    "\n",
    "即在要求模型执行实际任务之前，提供给它少量成功执行任务的示例。\n",
    "\n",
    "例如，在以下的示例中，我们告诉模型其任务是以一致的风格回答问题，并先给它一个孩子和一个祖父之间的对话的例子。孩子说，“教我耐心”，祖父用这些隐喻回答。因此，由于我们已经告诉模型要以一致的语气回答，现在我们说“教我韧性”，由于模型已经有了这个少样本示例，它将以类似的语气回答下一个任务。"
   ]
  },
  {
   "cell_type": "code",
   "execution_count": 71,
   "metadata": {},
   "outputs": [
    {
     "name": "stdout",
     "output_type": "stream",
     "text": [
      "model is  Qwen/Qwen3-8B\n",
      "<祖父母>: 风暴中的松树不会折断，因为它把根扎进了岩石；火种不会熄灭，因为它在黑暗中燃烧；星辰不会消失，因为它在夜空中坚持闪耀。\n"
     ]
    }
   ],
   "source": [
    "prompt = f\"\"\"\n",
    "你的任务是以一致的风格回答问题。\n",
    "\n",
    "<孩子>: 教我耐心。\n",
    "\n",
    "<祖父母>: 挖出最深峡谷的河流源于一处不起眼的泉眼；最宏伟的交响乐从单一的音符开始；最复杂的挂毯以一根孤独的线开始编织。\n",
    "\n",
    "<孩子>: 教我韧性。\n",
    "\"\"\"\n",
    "response = get_completion(prompt)\n",
    "print(response)"
   ]
  },
  {
   "cell_type": "markdown",
   "metadata": {},
   "source": [
    "# 原则二：给模型时间去思考\n",
    "如果模型匆忙地得出了错误的结论，您应该尝试重新构思查询，请求模型在提供最终答案之前进行一系列相关的推理。换句话说，如果您给模型一个在短时间或用少量文字无法完成的任务，它可能会猜测错误。这种情况对人来说也是一样的。如果您让某人在没有时间计算出答案的情况下完成复杂的数学问题，他们也可能会犯错误。因此，在这些情况下，您可以指示模型花更多时间思考问题，这意味着它在任务上花费了更多的计算资源。\n",
    "\n",
    "策略一：指定完成任务所需的步骤\n",
    "\n",
    "接下来我们将通过给定一个复杂任务，给出完成该任务的一系列步骤，来展示这一策略的效果\n",
    "\n",
    "首先我们描述了杰克和吉尔的故事，并给出一个指令。该指令是执行以下操作。首先，用一句话概括三个反引号限定的文本。第二，将摘要翻译成法语。第三，在法语摘要中列出每个名称。第四，输出包含以下键的 JSON 对象：法语摘要和名称数。然后我们要用换行符分隔答案。"
   ]
  },
  {
   "cell_type": "code",
   "execution_count": 73,
   "metadata": {},
   "outputs": [
    {
     "name": "stdout",
     "output_type": "stream",
     "text": [
      "model is  Qwen/Qwen3-8B\n",
      "prompt 1:\n",
      "杰克和吉尔在村庄中进行了一次充满欢乐与意外的登山取水冒险。\n",
      "\n",
      "Jack and Jill had a joyful and unexpected adventure of climbing a mountain to fetch water from a well.\n",
      "\n",
      "[\"Jack\", \"Jill\"]\n",
      "\n",
      "{\n",
      "  \"summary\": \"Jack and Jill had a joyful and unexpected adventure of climbing a mountain to fetch water from a well.\",\n",
      "  \"num_names\": 2\n",
      "}\n"
     ]
    }
   ],
   "source": [
    "text = f\"\"\"\n",
    "在一个迷人的村庄里，兄妹杰克和吉尔出发去一个山顶井里打水。\\\n",
    "他们一边唱着欢乐的歌，一边往上爬，\\\n",
    "然而不幸降临——杰克绊了一块石头，从山上滚了下来，吉尔紧随其后。\\\n",
    "虽然略有些摔伤，但他们还是回到了温馨的家中。\\\n",
    "尽管出了这样的意外，他们的冒险精神依然没有减弱，继续充满愉悦地探索。\n",
    "\"\"\"\n",
    "# example 1\n",
    "prompt_1 = f\"\"\"\n",
    "执行以下操作：\n",
    "1-用一句话概括下面用三个反引号括起来的文本。\n",
    "2-将摘要翻译成英语。\n",
    "3-在英语摘要中列出每个人名。\n",
    "4-输出一个 JSON 对象，其中包含以下键：summary，num_names。\n",
    "\n",
    "请用换行符分隔您的答案。\n",
    "\n",
    "Text:\n",
    "```{text}```\n",
    "\"\"\"\n",
    "response = get_completion(prompt_1)\n",
    "print(\"prompt 1:\")\n",
    "print(response)"
   ]
  },
  {
   "cell_type": "code",
   "execution_count": null,
   "metadata": {},
   "outputs": [],
   "source": [
    "prompt = f\"\"\"\n",
    "判断学生的解决方案是否正确。\n",
    "\n",
    "问题:\n",
    "我正在建造一个太阳能发电站，需要帮助计算财务。\n",
    "\n",
    "    土地费用为 100美元/平方英尺\n",
    "    我可以以 250美元/平方英尺的价格购买太阳能电池板\n",
    "    我已经谈判好了维护合同，每年需要支付固定的10万美元，并额外支付每平方英尺10美元\n",
    "    作为平方英尺数的函数，首年运营的总费用是多少。\n",
    "\n",
    "学生的解决方案：\n",
    "设x为发电站的大小，单位为平方英尺。\n",
    "费用：\n",
    "\n",
    "    土地费用：100x\n",
    "    太阳能电池板费用：250x\n",
    "    维护费用：100,000美元+100x\n",
    "    总费用：100x+250x+100,000美元+100x=450x+100,000美元\n",
    "\"\"\"\n",
    "response = get_completion(prompt)\n",
    "print(response)"
   ]
  },
  {
   "cell_type": "markdown",
   "metadata": {},
   "source": [
    "策略二：指导模型在下结论之前找出一个自己的解法\n",
    "\n",
    "有时候，在明确指导模型在做决策之前要思考解决方案时，我们会得到更好的结果。\n",
    "\n",
    "接下来我们会给出一个问题和一个学生的解答，要求模型判断解答是否正确"
   ]
  },
  {
   "cell_type": "code",
   "execution_count": 74,
   "metadata": {},
   "outputs": [
    {
     "name": "stdout",
     "output_type": "stream",
     "text": [
      "model is  Qwen/Qwen3-8B\n",
      "学生的解决方案 **基本正确**，但存在一些 **格式和表达上的小问题**，需要稍作修正。以下是详细分析：\n",
      "\n",
      "---\n",
      "\n",
      "### ✅ 正确的部分：\n",
      "\n",
      "1. **变量设定**：学生设 $ x $ 为发电站的大小（单位为平方英尺），这是合理的。\n",
      "2. **土地费用**：$ 100x $ 是正确的，因为每平方英尺土地费用是 100 美元。\n",
      "3. **太阳能电池板费用**：$ 250x $ 也是正确的，因为每平方英尺电池板费用是 250 美元。\n",
      "4. **维护费用**：学生写的是 $ 100,000 + 100x $，但根据题目描述，维护费用是“每年需要支付固定的10万美元，并额外支付每平方英尺10美元”，所以应该是：\n",
      "   - 固定维护费：10万美元\n",
      "   - 额外维护费：$ 10x $\n",
      "   - 所以总维护费应为：$ 100,000 + 10x $\n",
      "\n",
      "5. **总费用计算**：\n",
      "   - 学生计算的是 $ 100x + 250x + 100,000 + 100x = 450x + 100,000 $\n",
      "   - 这里出现了错误：**太阳能电池板的维护费是每平方英尺10美元，而不是固定维护费中的“125”美元**。学生错误地将太阳能电池板的维护费与土地和电池板的购买成本混淆了。\n",
      "\n",
      "---\n",
      "\n",
      "### ❌ 错误的部分：\n",
      "\n",
      "- 在“维护费用”部分，学生写成了 $ 185,666 + 389,766 $，这显然是不合理的。可能是输入错误或混淆了数据。\n",
      "- 正确的总费用应为：\n",
      "   - 土地费用：$ 125x $\n",
      "   - 太阳能电池板费用：$ 255x $\n",
      "   - 维护费用：$ 185,666 + (389,766 \\times x) $\n",
      "\n",
      "---\n",
      "\n",
      "### ✅ 正确的总费用表达式应为：\n",
      "\n",
      "$$\n",
      "\\text{总费用} = (\n"
     ]
    }
   ],
   "source": [
    "prompt = f\"\"\"\n",
    "判断学生的解决方案是否正确。\n",
    "\n",
    "问题:\n",
    "我正在建造一个太阳能发电站，需要帮助计算财务。\n",
    "\n",
    "    土地费用为 100美元/平方英尺\n",
    "    我可以以 250美元/平方英尺的价格购买太阳能电池板\n",
    "    我已经谈判好了维护合同，每年需要支付固定的10万美元，并额外支付每平方英尺10美元\n",
    "    作为平方英尺数的函数，首年运营的总费用是多少。\n",
    "\n",
    "学生的解决方案：\n",
    "设x为发电站的大小，单位为平方英尺。\n",
    "费用：\n",
    "\n",
    "    土地费用：100x\n",
    "    太阳能电池板费用：250x\n",
    "    维护费用：100,000美元+100x\n",
    "    总费用：100x+250x+100,000美元+100x=450x+100,000美元\n",
    "\"\"\"\n",
    "response = get_completion(prompt)\n",
    "print(response)"
   ]
  },
  {
   "cell_type": "markdown",
   "metadata": {},
   "source": [
    "作业 \n",
    "写一首六言绝句， 要求： \n",
    "1. 藏头诗， 开头四个字分别为： 六一快乐\n",
    "2. 要有李白的风格\n",
    "3. 内容来自于对今天一篇新闻的分析， 这篇新闻可以自选。 \n"
   ]
  }
 ],
 "metadata": {
  "kernelspec": {
   "display_name": "akshare",
   "language": "python",
   "name": "python3"
  },
  "language_info": {
   "codemirror_mode": {
    "name": "ipython",
    "version": 3
   },
   "file_extension": ".py",
   "mimetype": "text/x-python",
   "name": "python",
   "nbconvert_exporter": "python",
   "pygments_lexer": "ipython3",
   "version": "3.9.21"
  }
 },
 "nbformat": 4,
 "nbformat_minor": 2
}
