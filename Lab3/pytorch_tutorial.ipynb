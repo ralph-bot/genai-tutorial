{
 "cells": [
  {
   "cell_type": "markdown",
   "metadata": {},
   "source": [
    "# Readme\n",
    "pytorch 主要课程安排：\n",
    "1. pytorch 的基本概念\n",
    "2. pytorch 的基本操作\n",
    "3. pytorch 的模型构建\n",
    "4. pytorch 的模型训练\n",
    "5. pytoch 实战 -- MNIST"
   ]
  },
  {
   "cell_type": "code",
   "execution_count": 59,
   "metadata": {},
   "outputs": [
    {
     "name": "stdout",
     "output_type": "stream",
     "text": [
      "Requirement already satisfied: torch in /Users/fengrao/miniconda3/envs/py39/lib/python3.9/site-packages (2.5.1)\n",
      "Requirement already satisfied: filelock in /Users/fengrao/miniconda3/envs/py39/lib/python3.9/site-packages (from torch) (3.16.1)\n",
      "Requirement already satisfied: typing-extensions>=4.8.0 in /Users/fengrao/miniconda3/envs/py39/lib/python3.9/site-packages (from torch) (4.12.2)\n",
      "Requirement already satisfied: networkx in /Users/fengrao/miniconda3/envs/py39/lib/python3.9/site-packages (from torch) (3.2.1)\n",
      "Requirement already satisfied: jinja2 in /Users/fengrao/miniconda3/envs/py39/lib/python3.9/site-packages (from torch) (3.1.5)\n",
      "Requirement already satisfied: fsspec in /Users/fengrao/miniconda3/envs/py39/lib/python3.9/site-packages (from torch) (2024.12.0)\n",
      "Requirement already satisfied: sympy==1.13.1 in /Users/fengrao/miniconda3/envs/py39/lib/python3.9/site-packages (from torch) (1.13.1)\n",
      "Requirement already satisfied: mpmath<1.4,>=1.1.0 in /Users/fengrao/miniconda3/envs/py39/lib/python3.9/site-packages (from sympy==1.13.1->torch) (1.3.0)\n",
      "Requirement already satisfied: MarkupSafe>=2.0 in /Users/fengrao/miniconda3/envs/py39/lib/python3.9/site-packages (from jinja2->torch) (3.0.2)\n"
     ]
    }
   ],
   "source": [
    "!pip install torch "
   ]
  },
  {
   "cell_type": "code",
   "execution_count": 48,
   "metadata": {},
   "outputs": [
    {
     "name": "stdout",
     "output_type": "stream",
     "text": [
      "x (1797, 64)\n"
     ]
    },
    {
     "data": {
      "image/png": "[encoded data removed]",
      "text/plain": [
       "<Figure size 1000x500 with 10 Axes>"
      ]
     },
     "metadata": {},
     "output_type": "display_data"
    }
   ],
   "source": [
    "from sklearn.datasets import load_digits\n",
    "from sklearn.model_selection import train_test_split\n",
    "from sklearn.neural_network import MLPClassifier  # 多层感知机分类器\n",
    "from sklearn.metrics import classification_report, confusion_matrix\n",
    "import matplotlib.pyplot as plt\n",
    "\n",
    "# 加载手写数字数据集（1797张8x8像素的数字图片）\n",
    "digits = load_digits()\n",
    "X = digits.data  # 特征：64维向量（每张图片8x8像素）\n",
    "labels = digits.target  # 标签：0-9的数字\n",
    "\n",
    "print(\"x\" , X.shape)\n",
    "# 可视化前10张图片\n",
    "fig, axes = plt.subplots(2, 5, figsize=(10, 5))\n",
    "for i, ax in enumerate(axes.flat):\n",
    "    ax.imshow(digits.images[i], cmap='gray')\n",
    "    ax.set_title(f\"Label: {y[i]}\")\n",
    "    ax.axis('off')\n",
    "plt.show()"
   ]
  },
  {
   "cell_type": "code",
   "execution_count": 50,
   "metadata": {},
   "outputs": [
    {
     "name": "stdout",
     "output_type": "stream",
     "text": [
      "(1797, 1, 8, 8)\n",
      "1.0\n",
      "torch.Size([1617, 1, 8, 8]) torch.Size([1617]) torch.Size([180, 1, 8, 8]) torch.Size([180])\n"
     ]
    }
   ],
   "source": [
    "\n",
    "import torch\n",
    "# 数据预处理：重塑为图像格式并归一化\n",
    "print(X.shape)\n",
    "print(X.max())  # 打印X的最大值\n",
    "\n",
    "X = X.reshape(-1, 1, 8, 8)  # 重塑为 (样本数, 通道数, 高度, 宽度)\n",
    "X = X / X.max() # 将像素值归一化到 [0,1] 范围\n",
    "\n",
    "feature_train, feature_validate, target_train, target_validate = train_test_split(X, labels, test_size = 0.1, random_state = 0)\n",
    "\n",
    "# 转换为PyTorch张量\n",
    "X_train = torch.FloatTensor(feature_train)\n",
    "y_train = torch.LongTensor(target_train)\n",
    "X_test = torch.FloatTensor(feature_validate)\n",
    "y_test = torch.LongTensor(target_validate)\n",
    "print(X_train.shape,y_train.shape,X_test.shape,y_test.shape)"
   ]
  },
  {
   "cell_type": "code",
   "execution_count": 51,
   "metadata": {},
   "outputs": [
    {
     "name": "stdout",
     "output_type": "stream",
     "text": [
      "<torch.utils.data.dataset.TensorDataset object at 0x314534cd0>\n"
     ]
    }
   ],
   "source": [
    "from torch.utils.data import DataLoader, TensorDataset\n",
    "\n",
    "# 创建数据加载器\n",
    "train_dataset = TensorDataset(X_train, y_train)\n",
    "test_dataset = TensorDataset(X_test, y_test)\n",
    "train_loader = DataLoader(train_dataset, batch_size=64, shuffle=True)\n",
    "test_loader = DataLoader(test_dataset, batch_size=1000)\n",
    "print(train_dataset)"
   ]
  },
  {
   "cell_type": "code",
   "execution_count": 52,
   "metadata": {},
   "outputs": [],
   "source": [
    "import torch\n",
    "import torch.nn as nn\n",
    "import torch.optim as optim\n",
    "# 定义CNN模型（适应8x8图像）\n",
    "class CNN(nn.Module):\n",
    "    def __init__(self):\n",
    "        super(CNN, self).__init__()\n",
    "        self.conv1 = nn.Conv2d(1, 10, kernel_size=3)  # 输入通道1，输出通道10\n",
    "        self.conv2 = nn.Conv2d(10, 20, kernel_size=3)  # 输入通道10，输出通道20\n",
    "        self.conv2_drop = nn.Dropout2d()  # 卷积层的Dropout\n",
    "        self.fc1 = nn.Linear(20 * 1 * 1, 50)  # 全连接层\n",
    "        self.fc2 = nn.Linear(50, 10)  # 输出层\n",
    "\n",
    "    def forward(self, x):\n",
    "        x = self.conv1(x)  # 卷积操作 (8-3+1=6) -> 6x6\n",
    "        x = nn.functional.max_pool2d(x, 2)  # 最大池化 -> 3x3\n",
    "        x = nn.functional.relu(x)  # ReLU激活函数\n",
    "        \n",
    "        x = self.conv2(x)  # 第二次卷积 (3-3+1=1) -> 1x1\n",
    "        x = self.conv2_drop(x)  # Dropout防止过拟合\n",
    "        x = nn.functional.max_pool2d(x, 1)  # 池化 (保持1x1)\n",
    "        x = nn.functional.relu(x)  # ReLU激活函数\n",
    "        \n",
    "        x = x.view(-1, 20 * 1 * 1)  # 展平为一维向量\n",
    "        x = self.fc1(x)  # 全连接层\n",
    "        x = nn.functional.relu(x)  # ReLU激活函数\n",
    "        x = nn.functional.dropout(x, training=self.training)  # Dropout\n",
    "        x = self.fc2(x)  # 输出层\n",
    "        return nn.functional.log_softmax(x, dim=1)  # 对数Softmax激活函数\n"
   ]
  },
  {
   "cell_type": "code",
   "execution_count": 53,
   "metadata": {},
   "outputs": [
    {
     "name": "stdout",
     "output_type": "stream",
     "text": [
      "使用设备: cpu\n"
     ]
    }
   ],
   "source": [
    "# 初始化模型、损失函数和优化器\n",
    "device = torch.device(\"cuda\" if torch.cuda.is_available() else \"cpu\")\n",
    "print(f\"使用设备: {device}\")\n",
    "model = CNN().to(device)\n",
    "criterion = nn.NLLLoss()  # 负对数似然损失\n",
    "optimizer = optim.Adam(model.parameters(), lr=0.001)\n"
   ]
  },
  {
   "cell_type": "code",
   "execution_count": 58,
   "metadata": {},
   "outputs": [
    {
     "name": "stdout",
     "output_type": "stream",
     "text": [
      "OK开始训练CNN模型...\n",
      "Epoch 1/10, 损失: 0.5919, 耗时: 0.08秒\n",
      "Epoch 2/10, 损失: 0.6029, 耗时: 0.05秒\n",
      "Epoch 3/10, 损失: 0.5853, 耗时: 0.04秒\n",
      "Epoch 4/10, 损失: 0.5917, 耗时: 0.05秒\n",
      "Epoch 5/10, 损失: 0.6030, 耗时: 0.04秒\n",
      "Epoch 6/10, 损失: 0.6434, 耗时: 0.04秒\n",
      "Epoch 7/10, 损失: 0.5912, 耗时: 0.07秒\n",
      "Epoch 8/10, 损失: 0.5798, 耗时: 0.04秒\n",
      "Epoch 9/10, 损失: 0.6159, 耗时: 0.04秒\n",
      "Epoch 10/10, 损失: 0.5708, 耗时: 0.04秒\n"
     ]
    }
   ],
   "source": [
    "import time\n",
    "# 训练模型\n",
    "def train(epochs):\n",
    "    model.train()\n",
    "    for epoch in range(epochs):\n",
    "        start_time = time.time()\n",
    "        running_loss = 0.0\n",
    "        for batch_idx, (data, target) in enumerate(train_loader):\n",
    "            data, target = data.to(device), target.to(device)\n",
    "            \n",
    "            optimizer.zero_grad()\n",
    "            output = model(data)\n",
    "            loss = criterion(output, target)\n",
    "            loss.backward()\n",
    "            optimizer.step()\n",
    "            \n",
    "            running_loss += loss.item()\n",
    "        \n",
    "        end_time = time.time()\n",
    "        print(f'Epoch {epoch+1}/{epochs}, 损失: {running_loss/len(train_loader):.4f}, 耗时: {end_time-start_time:.2f}秒')\n",
    "# 训练和评估\n",
    "print(\"OK开始训练CNN模型...\")\n",
    "train(epochs=10)  # 由于数据集较小，增加训练轮次"
   ]
  },
  {
   "cell_type": "code",
   "execution_count": 57,
   "metadata": {},
   "outputs": [
    {
     "name": "stdout",
     "output_type": "stream",
     "text": [
      "\n",
      "开始评估模型...\n",
      "测试集: 平均损失: 0.2249, 准确率: 169/180 (93.89%)\n"
     ]
    }
   ],
   "source": [
    "# 评估模型\n",
    "def test():\n",
    "    model.eval()\n",
    "    test_loss = 0\n",
    "    correct = 0\n",
    "    with torch.no_grad():\n",
    "        for data, target in test_loader:\n",
    "            data, target = data.to(device), target.to(device)\n",
    "            output = model(data)\n",
    "            test_loss += criterion(output, target).item()\n",
    "            pred = output.argmax(dim=1, keepdim=True)  # 获取最大概率的索引\n",
    "            correct += pred.eq(target.view_as(pred)).sum().item()\n",
    "\n",
    "    test_loss /= len(test_loader)\n",
    "    accuracy = 100. * correct / len(test_loader.dataset)\n",
    "    print(f'测试集: 平均损失: {test_loss:.4f}, 准确率: {correct}/{len(test_loader.dataset)} ({accuracy:.2f}%)')\n",
    "print(\"\\n开始评估模型...\")\n",
    "test()"
   ]
  }
 ],
 "metadata": {
  "kernelspec": {
   "display_name": "py39",
   "language": "python",
   "name": "python3"
  },
  "language_info": {
   "codemirror_mode": {
    "name": "ipython",
    "version": 3
   },
   "file_extension": ".py",
   "mimetype": "text/x-python",
   "name": "python",
   "nbconvert_exporter": "python",
   "pygments_lexer": "ipython3",
   "version": "3.9.21"
  }
 },
 "nbformat": 4,
 "nbformat_minor": 2
}
